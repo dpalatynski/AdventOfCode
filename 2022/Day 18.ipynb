{
 "cells": [
  {
   "cell_type": "code",
   "execution_count": 1,
   "id": "5f1b9a1c",
   "metadata": {},
   "outputs": [],
   "source": [
    "first_input = '''1,1,1\n",
    "2,1,1'''"
   ]
  },
  {
   "cell_type": "code",
   "execution_count": 2,
   "id": "a8d8286c",
   "metadata": {},
   "outputs": [],
   "source": [
    "nodes = [list(map(int, line.split(','))) for line in first_input.split('\\n')]"
   ]
  },
  {
   "cell_type": "code",
   "execution_count": 3,
   "id": "838a3669",
   "metadata": {},
   "outputs": [
    {
     "data": {
      "text/plain": [
       "[[1, 1, 1], [2, 1, 1]]"
      ]
     },
     "execution_count": 3,
     "metadata": {},
     "output_type": "execute_result"
    }
   ],
   "source": [
    "nodes"
   ]
  },
  {
   "cell_type": "code",
   "execution_count": 4,
   "id": "a926aed3",
   "metadata": {},
   "outputs": [],
   "source": [
    "neighbours = [[-1, 0, 0],\n",
    "              [1, 0, 0],\n",
    "              [0, 1, 0],\n",
    "              [0, -1, 0],\n",
    "              [0, 0, 1],\n",
    "              [0, 0, -1]]"
   ]
  },
  {
   "cell_type": "code",
   "execution_count": 5,
   "id": "45882e70",
   "metadata": {},
   "outputs": [],
   "source": [
    "surface = 0\n",
    "for node in nodes:\n",
    "    no_of_neighbours = 0\n",
    "    for neighbour in neighbours:\n",
    "        if [node[0] + neighbour[0], node[1] + neighbour[1], node[2] + neighbour[2]] in nodes:\n",
    "            no_of_neighbours += 1\n",
    "    surface += 6 - no_of_neighbours        "
   ]
  },
  {
   "cell_type": "code",
   "execution_count": 6,
   "id": "024249a9",
   "metadata": {},
   "outputs": [
    {
     "data": {
      "text/plain": [
       "10"
      ]
     },
     "execution_count": 6,
     "metadata": {},
     "output_type": "execute_result"
    }
   ],
   "source": [
    "surface"
   ]
  },
  {
   "cell_type": "code",
   "execution_count": 7,
   "id": "d3967880",
   "metadata": {},
   "outputs": [],
   "source": [
    "sample_input = '''2,2,2\n",
    "1,2,2\n",
    "3,2,2\n",
    "2,1,2\n",
    "2,3,2\n",
    "2,2,1\n",
    "2,2,3\n",
    "2,2,4\n",
    "2,2,6\n",
    "1,2,5\n",
    "3,2,5\n",
    "2,1,5\n",
    "2,3,5'''"
   ]
  },
  {
   "cell_type": "code",
   "execution_count": 8,
   "id": "3882fe1c",
   "metadata": {},
   "outputs": [],
   "source": [
    "nodes = [list(map(int, line.split(','))) for line in sample_input.split('\\n')]"
   ]
  },
  {
   "cell_type": "code",
   "execution_count": 9,
   "id": "fbc514ba",
   "metadata": {},
   "outputs": [],
   "source": [
    "surface = 0\n",
    "for node in nodes:\n",
    "    no_of_neighbours = 0\n",
    "    for neighbour in neighbours:\n",
    "        if [node[0] + neighbour[0], node[1] + neighbour[1], node[2] + neighbour[2]] in nodes:\n",
    "            no_of_neighbours += 1\n",
    "    surface += 6 - no_of_neighbours   "
   ]
  },
  {
   "cell_type": "code",
   "execution_count": 10,
   "id": "5cd0ed9d",
   "metadata": {},
   "outputs": [
    {
     "data": {
      "text/plain": [
       "64"
      ]
     },
     "execution_count": 10,
     "metadata": {},
     "output_type": "execute_result"
    }
   ],
   "source": [
    "surface"
   ]
  },
  {
   "cell_type": "code",
   "execution_count": 11,
   "id": "a68922f2",
   "metadata": {},
   "outputs": [],
   "source": [
    "nodes = [list(map(int, line.split(','))) for line in open('Day 18.txt').read().split('\\n')]"
   ]
  },
  {
   "cell_type": "code",
   "execution_count": 12,
   "id": "b849f652",
   "metadata": {},
   "outputs": [],
   "source": [
    "surface = 0\n",
    "for node in nodes:\n",
    "    no_of_neighbours = 0\n",
    "    for neighbour in neighbours:\n",
    "        if [node[0] + neighbour[0], node[1] + neighbour[1], node[2] + neighbour[2]] in nodes:\n",
    "            no_of_neighbours += 1\n",
    "    surface += 6 - no_of_neighbours   "
   ]
  },
  {
   "cell_type": "code",
   "execution_count": 13,
   "id": "c8fdf8fb",
   "metadata": {},
   "outputs": [
    {
     "data": {
      "text/plain": [
       "4504"
      ]
     },
     "execution_count": 13,
     "metadata": {},
     "output_type": "execute_result"
    }
   ],
   "source": [
    "surface"
   ]
  },
  {
   "cell_type": "markdown",
   "id": "d2b83184",
   "metadata": {},
   "source": [
    "# Part 2"
   ]
  },
  {
   "cell_type": "code",
   "execution_count": 14,
   "id": "0c294b2d",
   "metadata": {},
   "outputs": [],
   "source": [
    "def get_neighbours(node):\n",
    "    neighbours = [[-1, 0, 0],\n",
    "              [1, 0, 0],\n",
    "              [0, 1, 0],\n",
    "              [0, -1, 0],\n",
    "              [0, 0, 1],\n",
    "              [0, 0, -1]]\n",
    "    \n",
    "    node_neighbours = []\n",
    "    \n",
    "    for neighbour in neighbours:\n",
    "        if -1 <= node[0] + neighbour[0] <= 22 and -1 <= node[1] + neighbour[1] <= 22 and -1 <= node[2] + neighbour[2] <= 22:\n",
    "            node_neighbours.append([node[0] + neighbour[0], node[1] + neighbour[1], node[2] + neighbour[2]])\n",
    "        \n",
    "    return node_neighbours"
   ]
  },
  {
   "cell_type": "code",
   "execution_count": 15,
   "id": "c4d68674",
   "metadata": {},
   "outputs": [],
   "source": [
    "def dfs(starting_node, nodes):\n",
    "    q = [starting_node]\n",
    "    visited = []\n",
    "    \n",
    "    while len(q) > 0:\n",
    "        current_node = q.pop()     \n",
    "        for neighbour in get_neighbours(current_node):\n",
    "            if neighbour in nodes:\n",
    "                continue\n",
    "            elif neighbour in visited:\n",
    "                continue\n",
    "            else:\n",
    "                q.append(neighbour)\n",
    "                visited.append(neighbour)\n",
    "                \n",
    "    return visited"
   ]
  },
  {
   "cell_type": "code",
   "execution_count": 16,
   "id": "2b7bc5a4",
   "metadata": {},
   "outputs": [],
   "source": [
    "nodes = [list(map(int, line.split(','))) for line in sample_input.split('\\n')]\n",
    "visited_nodes = dfs([-1, -1, -1], nodes)"
   ]
  },
  {
   "cell_type": "code",
   "execution_count": 17,
   "id": "774e0641",
   "metadata": {},
   "outputs": [],
   "source": [
    "result = 0\n",
    "for node in nodes:\n",
    "    for neighbour in get_neighbours(node):\n",
    "        if neighbour in visited_nodes:\n",
    "            result += 1"
   ]
  },
  {
   "cell_type": "code",
   "execution_count": 18,
   "id": "8cc47df2",
   "metadata": {},
   "outputs": [
    {
     "data": {
      "text/plain": [
       "58"
      ]
     },
     "execution_count": 18,
     "metadata": {},
     "output_type": "execute_result"
    }
   ],
   "source": [
    "result"
   ]
  },
  {
   "cell_type": "code",
   "execution_count": 19,
   "id": "15f8da71",
   "metadata": {},
   "outputs": [],
   "source": [
    "nodes = [list(map(int, line.split(','))) for line in open('Day 18.txt').read().split('\\n')]\n",
    "visited_nodes = dfs([-1, -1, -1], nodes)"
   ]
  },
  {
   "cell_type": "code",
   "execution_count": 20,
   "id": "615ebf8c",
   "metadata": {},
   "outputs": [],
   "source": [
    "result = 0\n",
    "for node in nodes:\n",
    "    for neighbour in get_neighbours(node):\n",
    "        if neighbour in visited_nodes:\n",
    "            result += 1"
   ]
  },
  {
   "cell_type": "code",
   "execution_count": 21,
   "id": "6a702468",
   "metadata": {},
   "outputs": [
    {
     "data": {
      "text/plain": [
       "2556"
      ]
     },
     "execution_count": 21,
     "metadata": {},
     "output_type": "execute_result"
    }
   ],
   "source": [
    "result"
   ]
  },
  {
   "cell_type": "code",
   "execution_count": null,
   "id": "728ba99a",
   "metadata": {},
   "outputs": [],
   "source": []
  }
 ],
 "metadata": {
  "kernelspec": {
   "display_name": "Python 3 (ipykernel)",
   "language": "python",
   "name": "python3"
  },
  "language_info": {
   "codemirror_mode": {
    "name": "ipython",
    "version": 3
   },
   "file_extension": ".py",
   "mimetype": "text/x-python",
   "name": "python",
   "nbconvert_exporter": "python",
   "pygments_lexer": "ipython3",
   "version": "3.9.10"
  }
 },
 "nbformat": 4,
 "nbformat_minor": 5
}
