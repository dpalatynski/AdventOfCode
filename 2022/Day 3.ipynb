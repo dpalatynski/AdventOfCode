{
 "cells": [
  {
   "cell_type": "markdown",
   "id": "e4d53e2b",
   "metadata": {},
   "source": [
    "# --- Day 3: Rucksack Reorganization ---\n",
    "\n",
    "One Elf has the important job of loading all of the rucksacks with supplies for the jungle journey. Unfortunately, that Elf didn't quite follow the packing instructions, and so a few items now need to be rearranged.\n",
    "\n",
    "Each rucksack has two large compartments. All items of a given type are meant to go into exactly one of the two compartments. The Elf that did the packing failed to follow this rule for exactly one item type per rucksack.\n",
    "\n",
    "The Elves have made a list of all of the items currently in each rucksack (your puzzle input), but they need your help finding the errors. Every item type is identified by a single lowercase or uppercase letter (that is, a and A refer to different types of items).\n",
    "\n",
    "The list of items for each rucksack is given as characters all on a single line. A given rucksack always has the same number of items in each of its two compartments, so the first half of the characters represent items in the first compartment, while the second half of the characters represent items in the second compartment.\n",
    "\n",
    "For example, suppose you have the following list of contents from six rucksacks:\n",
    "\n",
    "vJrwpWtwJgWrhcsFMMfFFhFp\n",
    "jqHRNqRjqzjGDLGLrsFMfFZSrLrFZsSL\n",
    "PmmdzqPrVvPwwTWBwg\n",
    "wMqvLMZHhHMvwLHjbvcjnnSBnvTQFn\n",
    "ttgJtRGJQctTZtZT\n",
    "CrZsJsPPZsGzwwsLwLmpwMDw\n",
    "\n",
    "    The first rucksack contains the items vJrwpWtwJgWrhcsFMMfFFhFp, which means its first compartment contains the items vJrwpWtwJgWr, while the second compartment contains the items hcsFMMfFFhFp. The only item type that appears in both compartments is lowercase p.\n",
    "    The second rucksack's compartments contain jqHRNqRjqzjGDLGL and rsFMfFZSrLrFZsSL. The only item type that appears in both compartments is uppercase L.\n",
    "    The third rucksack's compartments contain PmmdzqPrV and vPwwTWBwg; the only common item type is uppercase P.\n",
    "    The fourth rucksack's compartments only share item type v.\n",
    "    The fifth rucksack's compartments only share item type t.\n",
    "    The sixth rucksack's compartments only share item type s.\n",
    "\n",
    "To help prioritize item rearrangement, every item type can be converted to a priority:\n",
    "\n",
    "    Lowercase item types a through z have priorities 1 through 26.\n",
    "    Uppercase item types A through Z have priorities 27 through 52.\n",
    "\n",
    "In the above example, the priority of the item type that appears in both compartments of each rucksack is 16 (p), 38 (L), 42 (P), 22 (v), 20 (t), and 19 (s); the sum of these is 157.\n",
    "\n",
    "Find the item type that appears in both compartments of each rucksack. What is the sum of the priorities of those item types?\n"
   ]
  },
  {
   "cell_type": "code",
   "execution_count": 1,
   "id": "9bb2237e",
   "metadata": {},
   "outputs": [],
   "source": [
    "sample = '''vJrwpWtwJgWrhcsFMMfFFhFp\n",
    "jqHRNqRjqzjGDLGLrsFMfFZSrLrFZsSL\n",
    "PmmdzqPrVvPwwTWBwg\n",
    "wMqvLMZHhHMvwLHjbvcjnnSBnvTQFn\n",
    "ttgJtRGJQctTZtZT\n",
    "CrZsJsPPZsGzwwsLwLmpwMDw'''"
   ]
  },
  {
   "cell_type": "code",
   "execution_count": 2,
   "id": "e00cd1db",
   "metadata": {},
   "outputs": [],
   "source": [
    "rucksacks = sample.split('\\n')"
   ]
  },
  {
   "cell_type": "code",
   "execution_count": 3,
   "id": "a1f01c44",
   "metadata": {},
   "outputs": [
    {
     "data": {
      "text/plain": [
       "['vJrwpWtwJgWrhcsFMMfFFhFp',\n",
       " 'jqHRNqRjqzjGDLGLrsFMfFZSrLrFZsSL',\n",
       " 'PmmdzqPrVvPwwTWBwg',\n",
       " 'wMqvLMZHhHMvwLHjbvcjnnSBnvTQFn',\n",
       " 'ttgJtRGJQctTZtZT',\n",
       " 'CrZsJsPPZsGzwwsLwLmpwMDw']"
      ]
     },
     "execution_count": 3,
     "metadata": {},
     "output_type": "execute_result"
    }
   ],
   "source": [
    "rucksacks"
   ]
  },
  {
   "cell_type": "code",
   "execution_count": 8,
   "id": "102900d3",
   "metadata": {},
   "outputs": [],
   "source": [
    "rucksacks_divided = []\n",
    "for rucksack in rucksacks:\n",
    "    rucksacks_divided.append([rucksack[:len(rucksack)//2], rucksack[len(rucksack)//2:]])"
   ]
  },
  {
   "cell_type": "code",
   "execution_count": 9,
   "id": "a06386f0",
   "metadata": {},
   "outputs": [
    {
     "data": {
      "text/plain": [
       "[['vJrwpWtwJgWr', 'hcsFMMfFFhFp'],\n",
       " ['jqHRNqRjqzjGDLGL', 'rsFMfFZSrLrFZsSL'],\n",
       " ['PmmdzqPrV', 'vPwwTWBwg'],\n",
       " ['wMqvLMZHhHMvwLH', 'jbvcjnnSBnvTQFn'],\n",
       " ['ttgJtRGJ', 'QctTZtZT'],\n",
       " ['CrZsJsPPZsGz', 'wwsLwLmpwMDw']]"
      ]
     },
     "execution_count": 9,
     "metadata": {},
     "output_type": "execute_result"
    }
   ],
   "source": [
    "rucksacks_divided"
   ]
  },
  {
   "cell_type": "code",
   "execution_count": 19,
   "id": "e9f2a6fb",
   "metadata": {},
   "outputs": [],
   "source": [
    "letters = []\n",
    "for rucksack_divided in rucksacks_divided:\n",
    "    z = list(set(rucksack_divided[0]).intersection(set(rucksack_divided[1])))\n",
    "    letters.append(z[0])"
   ]
  },
  {
   "cell_type": "code",
   "execution_count": 37,
   "id": "9c115a21",
   "metadata": {},
   "outputs": [
    {
     "data": {
      "text/plain": [
       "['p', 'L', 'P', 'v', 't', 's']"
      ]
     },
     "execution_count": 37,
     "metadata": {},
     "output_type": "execute_result"
    }
   ],
   "source": [
    "letters"
   ]
  },
  {
   "cell_type": "code",
   "execution_count": 43,
   "id": "3d4debb5",
   "metadata": {},
   "outputs": [],
   "source": [
    "sum_of_priorities = 0 \n",
    "for letter in letters:\n",
    "    if ord(letter)>=97:\n",
    "        sum_of_priorities += ord(letter) - 96\n",
    "    else:\n",
    "        sum_of_priorities += ord(letter) - 64 + 26"
   ]
  },
  {
   "cell_type": "code",
   "execution_count": 45,
   "id": "e14df076",
   "metadata": {},
   "outputs": [
    {
     "data": {
      "text/plain": [
       "157"
      ]
     },
     "execution_count": 45,
     "metadata": {},
     "output_type": "execute_result"
    }
   ],
   "source": [
    "sum_of_priorities"
   ]
  },
  {
   "cell_type": "code",
   "execution_count": 47,
   "id": "79fe6c54",
   "metadata": {},
   "outputs": [],
   "source": [
    "rucksacks = puzzle_input.split('\\n')\n",
    "rucksacks_divided = []\n",
    "for rucksack in rucksacks:\n",
    "    rucksacks_divided.append([rucksack[:len(rucksack)//2], rucksack[len(rucksack)//2:]])\n",
    "    \n",
    "letters = []\n",
    "for rucksack_divided in rucksacks_divided:\n",
    "    z = list(set(rucksack_divided[0]).intersection(set(rucksack_divided[1])))\n",
    "    letters.append(z[0])\n",
    "    \n",
    "sum_of_priorities = 0 \n",
    "for letter in letters:\n",
    "    if ord(letter)>=97:\n",
    "        sum_of_priorities += ord(letter) - 96\n",
    "    else:\n",
    "        sum_of_priorities += ord(letter) - 64 + 26"
   ]
  },
  {
   "cell_type": "code",
   "execution_count": 48,
   "id": "8f3eec3c",
   "metadata": {},
   "outputs": [
    {
     "data": {
      "text/plain": [
       "7795"
      ]
     },
     "execution_count": 48,
     "metadata": {},
     "output_type": "execute_result"
    }
   ],
   "source": [
    "sum_of_priorities"
   ]
  },
  {
   "cell_type": "markdown",
   "id": "5fa6367c",
   "metadata": {},
   "source": [
    "# --- Part Two ---\n",
    "\n",
    "As you finish identifying the misplaced items, the Elves come to you with another issue.\n",
    "\n",
    "For safety, the Elves are divided into groups of three. Every Elf carries a badge that identifies their group. For efficiency, within each group of three Elves, the badge is the only item type carried by all three Elves. That is, if a group's badge is item type B, then all three Elves will have item type B somewhere in their rucksack, and at most two of the Elves will be carrying any other item type.\n",
    "\n",
    "The problem is that someone forgot to put this year's updated authenticity sticker on the badges. All of the badges need to be pulled out of the rucksacks so the new authenticity stickers can be attached.\n",
    "\n",
    "Additionally, nobody wrote down which item type corresponds to each group's badges. The only way to tell which item type is the right one is by finding the one item type that is common between all three Elves in each group.\n",
    "\n",
    "Every set of three lines in your list corresponds to a single group, but each group can have a different badge item type. So, in the above example, the first group's rucksacks are the first three lines:\n",
    "\n",
    "vJrwpWtwJgWrhcsFMMfFFhFp\n",
    "jqHRNqRjqzjGDLGLrsFMfFZSrLrFZsSL\n",
    "PmmdzqPrVvPwwTWBwg\n",
    "\n",
    "And the second group's rucksacks are the next three lines:\n",
    "\n",
    "wMqvLMZHhHMvwLHjbvcjnnSBnvTQFn\n",
    "ttgJtRGJQctTZtZT\n",
    "CrZsJsPPZsGzwwsLwLmpwMDw\n",
    "\n",
    "In the first group, the only item type that appears in all three rucksacks is lowercase r; this must be their badges. In the second group, their badge item type must be Z.\n",
    "\n",
    "Priorities for these items must still be found to organize the sticker attachment efforts: here, they are 18 (r) for the first group and 52 (Z) for the second group. The sum of these is 70.\n",
    "\n",
    "Find the item type that corresponds to the badges of each three-Elf group. What is the sum of the priorities of those item types?\n"
   ]
  },
  {
   "cell_type": "code",
   "execution_count": 49,
   "id": "90e83c8a",
   "metadata": {},
   "outputs": [],
   "source": [
    "rucksacks = sample.split('\\n')"
   ]
  },
  {
   "cell_type": "code",
   "execution_count": 50,
   "id": "842dea35",
   "metadata": {},
   "outputs": [
    {
     "data": {
      "text/plain": [
       "['vJrwpWtwJgWrhcsFMMfFFhFp',\n",
       " 'jqHRNqRjqzjGDLGLrsFMfFZSrLrFZsSL',\n",
       " 'PmmdzqPrVvPwwTWBwg',\n",
       " 'wMqvLMZHhHMvwLHjbvcjnnSBnvTQFn',\n",
       " 'ttgJtRGJQctTZtZT',\n",
       " 'CrZsJsPPZsGzwwsLwLmpwMDw']"
      ]
     },
     "execution_count": 50,
     "metadata": {},
     "output_type": "execute_result"
    }
   ],
   "source": [
    "rucksacks"
   ]
  },
  {
   "cell_type": "code",
   "execution_count": 53,
   "id": "1e62d6d4",
   "metadata": {},
   "outputs": [],
   "source": [
    "grouped_rucksacks = []\n",
    "for i in range(0, len(rucksacks), 3):\n",
    "    grouped_rucksacks.append(rucksacks[i:i+3])"
   ]
  },
  {
   "cell_type": "code",
   "execution_count": 59,
   "id": "49a17501",
   "metadata": {},
   "outputs": [],
   "source": [
    "common_items = []\n",
    "for grouped_rucksack in grouped_rucksacks:\n",
    "    y = set(grouped_rucksack[0]).intersection(set(grouped_rucksack[1]))\n",
    "    z = list(y.intersection(set(grouped_rucksack[2])))\n",
    "    common_items.append(z[0])"
   ]
  },
  {
   "cell_type": "code",
   "execution_count": 60,
   "id": "eb1bb200",
   "metadata": {},
   "outputs": [
    {
     "data": {
      "text/plain": [
       "['r', 'Z']"
      ]
     },
     "execution_count": 60,
     "metadata": {},
     "output_type": "execute_result"
    }
   ],
   "source": [
    "common_items"
   ]
  },
  {
   "cell_type": "code",
   "execution_count": 63,
   "id": "f2a770a3",
   "metadata": {},
   "outputs": [],
   "source": [
    "sum_of_priorities = 0 \n",
    "for item in common_items:\n",
    "    if ord(item)>=97:\n",
    "        sum_of_priorities += ord(item) - 96\n",
    "    else:\n",
    "        sum_of_priorities += ord(item) - 64 + 26"
   ]
  },
  {
   "cell_type": "code",
   "execution_count": 64,
   "id": "ef4cff6a",
   "metadata": {},
   "outputs": [
    {
     "data": {
      "text/plain": [
       "70"
      ]
     },
     "execution_count": 64,
     "metadata": {},
     "output_type": "execute_result"
    }
   ],
   "source": [
    "sum_of_priorities"
   ]
  },
  {
   "cell_type": "code",
   "execution_count": 69,
   "id": "e7722e35",
   "metadata": {},
   "outputs": [],
   "source": [
    "grouped_rucksacks = []\n",
    "rucksasks = puzzle_input.split('\\n')\n",
    "for i in range(0, len(rucksasks), 3):\n",
    "    grouped_rucksacks.append(rucksasks[i:i+3])\n",
    "\n",
    "common_items = []\n",
    "for grouped_rucksack in grouped_rucksacks:\n",
    "    y = set(grouped_rucksack[0]).intersection(set(grouped_rucksack[1]))\n",
    "    z = list(y.intersection(set(grouped_rucksack[2])))\n",
    "    common_items.append(z[0])\n",
    "    \n",
    "sum_of_priorities = 0 \n",
    "for item in common_items:\n",
    "    if ord(item)>=97:\n",
    "        sum_of_priorities += ord(item) - 96\n",
    "    else:\n",
    "        sum_of_priorities += ord(item) - 64 + 26"
   ]
  },
  {
   "cell_type": "code",
   "execution_count": 70,
   "id": "7a515491",
   "metadata": {},
   "outputs": [
    {
     "data": {
      "text/plain": [
       "2703"
      ]
     },
     "execution_count": 70,
     "metadata": {},
     "output_type": "execute_result"
    }
   ],
   "source": [
    "sum_of_priorities"
   ]
  },
  {
   "cell_type": "code",
   "execution_count": 46,
   "id": "e453076d",
   "metadata": {},
   "outputs": [],
   "source": [
    "puzzle_input = '''vJrrdQlGBQWPTBTF\n",
    "fcpTMnMqMfTnZpgMfPbFBWzHPpBPzbCPPH\n",
    "mcVMfcsqZgmgVcmfgcmZmqZNJhrlrdhNhDdrRRJSvDTRhJlD\n",
    "pMFRmLwHMbRPmMbPPddvqqrrNSTFVttdrN\n",
    "hgfpgCGZcjpcgfvNtdrtjvrdtSrd\n",
    "gZgsBBBlZggBGhsfhpzlzLDLmLRDRMLDPw\n",
    "hChhMFCvqtTMwbSSHgTZWHZd\n",
    "jjBNPjJJNfsNjVnVJJNcNfPwGbSbDZnZZgHrddwHrrgWGb\n",
    "mBBRRmBBQBmNJWhCzqllzhRCCv\n",
    "lQgpngNgQvHdSgWwjMRmDjmMDHmm\n",
    "zCLVzfzzbbCzsZZPbZPLfFJJMDWWRcDsmJRcjmwTmlRj\n",
    "BblftzBtlFznptSQQQppNG\n",
    "wJJwqCtCGRcVlqlM\n",
    "BQpppjBQLczTrvHRjH\n",
    "QQQFnmQWWRfnpQBpQpfDCwCdbPDCwbNNPtdJPCZw\n",
    "gpJjshBpgjZGppJqBGJjJZzTwzTmcvzwwcmvwsCFdmcF\n",
    "WPSSWWSQLVdDDfWltDWLPfttvFCVmzCCTFnmwcnnnCTCzVVv\n",
    "tLldLltDQfflrRWNqBRjgHBpJNZjHj\n",
    "bzVJjVnjbCGVLZQLmmsJZZQQ\n",
    "RrwwzhPScWSwrhvZZvZlZvvSTsQS\n",
    "HwFhzFWdPHfcPwPWPdhWffnngpjtnjgtpnfGCGnG\n",
    "CPwQtftDQfPDBPBCfDDDCDptszcpVVddcRczVLVdccRGrLWs\n",
    "FqlSnhlqhmhMbHqqSQlHbcrRrsWzRdzdWVzLRGRrVF\n",
    "MbQmSnHZhqZMQMTJCttjCgPCwfgDwT\n",
    "CCSpvHtZHSwftFtdtbfR\n",
    "QJmNPmjjJNgNVNSzDlmRqbWlqWWfcqfWqbwfqR\n",
    "MDhJzmSMDmsZrLhssrvh\n",
    "ZhznnrLzcHhHSjsjSBSsBnSS\n",
    "dTwqDdqDRQjNdwqjldggDvBJfmBfTSBbBSvfSJsmff\n",
    "DjCldNglVwFVgZHHHzhCMcLhMC\n",
    "vBnShjwwSshmQPmtJLpJtn\n",
    "rDLFCWrClWCMWWVrbFVJqpQqpHmtbzJPQzJmzb\n",
    "ZMCCDCMNrTWTrgScgGRhsvcsGLSG\n",
    "LQpJglQQRjQsppfsQbjfbQlBgBhFhrvghhZCdPZZZthPgv\n",
    "zVHDMSWVVMVWDzmnVMHDSMMzZvNFFrFvPCdmdFdNdrBPZhhd\n",
    "ncqqSzMVCcGWVSCTWCDcVTffLLLbJsLLsRLblRQTps\n",
    "zjGzLQtFzzRgwwLhVrqw\n",
    "dfClCdHZsmffZDWlBZHCDBmhJbqTgbwgqbTnwrgrqRbT\n",
    "HsdwPCsWDpDsBpfdWdHldWpsGvvccPvGcvzQvFQvccjNztQt\n",
    "wmVVgFPrFdwJrlNHQHSHCCHL\n",
    "tWBtvnBqZZMpcvmmqMBRCQQLCLWCHfNQQCSGWL\n",
    "BBsnmcpqPswFsTws\n",
    "BQRpFPJJJJPmPRqZNFVhcczHHzggwjBhghgzHw\n",
    "snTsTLtrlvSSSslsGdcwmjhgggvjHhmH\n",
    "nSsWWTtCbbDSnlRRZCfFRNZmCVJf\n",
    "tRRMCWLtJWQLqLrmLHVLqmqh\n",
    "JszPjSbGbsnGnSZprVpFhvFqvhrqZZ\n",
    "zgbGSDBbPsTgbDBzzSDnDnPTcWlWJCQlNttNwwwMcMctcW\n",
    "hlVRvPvzqqtRdwRRJsst\n",
    "HHVNVBMBjHLTjVjwDjsbjJwbdmbbss\n",
    "NBZHMCNVCCpgLTWggBpgNLTvqCPnGhQhCCGlqlhfcvvGfn\n",
    "mwbfbfbDCqRJZRbCSvmfWTQFczTznnnFTFnrzJsz\n",
    "BdhHlLjpjjjncSprnsSFWS\n",
    "ljhVBPjSdHPRfZRZDvVRZM\n",
    "tGqbqBSsntRgNqwNNVVHVN\n",
    "hclFvJZvCDFppDpZpHNggMTwdlrMQNVgHM\n",
    "CCFmcZLDFpvzZhCFJvZvmwjSRWsBLWsnfWjRRGGfnsst\n",
    "GdGQQFdcMPwMdLFvWsNWFDLfss\n",
    "SqjhtjnrbVznSztSqtzpjztVvTmNNmmfMMfDDMDDNTqfgsqv\n",
    "rVhhZjppVrhpVzRbjSnzHPMwlJCJQdcRPPlPPcHJ\n",
    "JVQLVgVZghFtFlhghtvSzsddmrdvssmzSWtd\n",
    "HTMJCBMCjnwNBnCbTNwMdWfzvzsrsvffWbdsmfPr\n",
    "BGnnpDnTjjHJwDBNpqlFQVQFQclcRFQqpR\n",
    "BRhbrQDttbTTtRDtTRRzLHWZLZHGSqWLCBNWqLNL\n",
    "fwFPPSjmsmJGLsNH\n",
    "dvfSdvfVMjPTttTzczgTcd\n",
    "dZgggwzgvsggtdstZTZgdfnhSJSSJDDhnDBdppnGnhSp\n",
    "VQWRQWVCRLFGnThJCpFJ\n",
    "LbmmbQVcHcmmlWjmVlVQNVRzvwwZvTrsrNwNwzZrMvfsqt\n",
    "lDZQSlHDbLccRPQhCNhG\n",
    "gtsntgvdvBvvqgsTgBggdrWRNzPhWczPbWcdWCccGGGP\n",
    "sTBttvrFnnMTMJngbqfLlZLpwFVljwppZZDl\n",
    "zNNNgqpgmLgqlHBHsMGslH\n",
    "WdWFrFwhcwWRwhddcRWcdQbcDDslzBDszsHbGBDfbHfzVlVl\n",
    "ZvhRrvPQwvWFQRZvFdJttSPgCmNppCNzJnJS\n",
    "fCzRRNGfqNRvwpQhwrGcwZZT\n",
    "gJnStgMmLhdHndSSTjcTrTpcmrjjcrrw\n",
    "FFJBbdddFPPhFFNWCF\n",
    "btrHRSBBSNLLRPLwhbhpqpfWhQppWZ\n",
    "zCzTvvmgDvgDZhqWZZthtDZh\n",
    "ttTjMsvCgRRLRSsBRG\n",
    "LsSFFTTDWdCsmFTlLSsLDDRRQCvhpRQGNGQBJBhGGMNB\n",
    "zqPtqZnjPPrPvJHBMHrJrMpv\n",
    "VbqfjZfwgtfjPgZPgtwDLTLcTlcFdWLdcdVTJF\n",
    "pfMCDmpHbdMQQdQFFG\n",
    "gdjldRsVFRntQnqR\n",
    "rlJVsWgWPWjsslSpDbScmSDPHfCd\n",
    "lnFFGgBFBslDFGbFSjnNTjjppSrQHhnT\n",
    "zcvmCRcvZmcZzWpTQhQrrTSPtHWH\n",
    "CRccrZJmdJlwDJwgswGg\n",
    "hllrrDzggGppgSSLNWgW\n",
    "jlTlPwwqjjntVpWWPNnP\n",
    "wjjJqvQjJjQJbTjlFqhBMzfDDmMCGBMHDCGb\n",
    "jvQPhhtCRtfmqHHjqHHJsl\n",
    "FFSTcBTBTMwFGCTwMTcGwTVnsHSJzqqJJJplmlpJHszZZzZD\n",
    "dLMdVMNGBdGFMTNTRRLrQWCQhgWQbhgf\n",
    "gdRgdgzzrvrzggDwgDGpPLzrbNljMTsbWWjWjZbTjLZMWcWj\n",
    "tFfCQHJJnJMJTJjNNMjl\n",
    "HmtffVttqHQmBCBQCqfFnCwRqpDvPRrGppRggNzdwgzp\n",
    "DHSqzQbzWlRLDzMZNpVLgnpNLggw\n",
    "cZcdTmPPthPdsvvdhPGTvJgwnpgjjTgNNwMVngNBjNfn\n",
    "PPdJPvrtGtcFdFFchDRHDqHzZWSQQCrQWQ\n",
    "BcgnLBLsFvRnGRRRlzfJbbPJzwHPwPFz\n",
    "hCDjWMDVNfVllfzddw\n",
    "qqMqpWCMjDTWNWTBLpgsgLvZwtGLLg\n",
    "zczPgpGzhnbmbchhHwqwhSwfwHCFWw\n",
    "VJdmVLlLdVJSJWHSTFwH\n",
    "rlttQLVLdvvZpgcGbmDrzGMD\n",
    "WSvtpqqtqccttVQpVvJNJSVNCmTlnCWwTTnWlBBBjwCBTlTP\n",
    "ZgfPHfPfMHsDCwnlGBwTMGBM\n",
    "rgdffZhPrrLsdLZpvcFSJJNvpJhcJv\n",
    "qVdqJGvzgJzJgwzgWvdJzpblcRRWmLFFcLBmllFRRMRFRH\n",
    "TGGSsSssNPTSLlRLcPHMmnPB\n",
    "tTjTZtNGhrCjQNCjQQDTCSjZvfJbdgqrdpwqfVzwgzvdvVgb\n",
    "VTmwcTVSMHwbMwbDVBTcMpJfpfnWqdJbZpJldfsjZn\n",
    "hNtPhtzFzPQGCCGFFCGtnqQqWZWplsjWdlnlldJn\n",
    "vRCRzvvFFFvhrRthPtLrtNGSwBVDScDSgHHjwwcBgSgTSL\n",
    "dWCsWbWWchblsmbWVZqqsSpsGfBqBVBB\n",
    "DtTtjPJrgjjtTTwgPwwjrTgnLqSBZQLqngQppqnfBVQfGp\n",
    "PJPwwtDwHGGJtJRFHmhCFRCvdmHR\n",
    "mMsMJSCjllsSSmBBclsMsJHDbcHqqbHpqHGbDZHbqHpb\n",
    "RnQnGVnzGzFQgzWzpzvpqDHW\n",
    "QVhRTfGLLFGTTFFwhnQVNfFwJsJsMjsBMrlsjrJlPSPlTrls\n",
    "JNMJSVSGVCjnWZMZWWcH\n",
    "gLTcqbqhqbbgzgnjpnjjWHnP\n",
    "wqlbcrfTwrvcLBwwRtJwsNRstRsCCN\n",
    "MlBssQBchZDLNJZgmvGg\n",
    "fdzHMfHSzSprfgSvvJbmvDGNDW\n",
    "PCHTRfjHnzHMzzfrCPCpMTlFhcFstqVwVCFllQcBtqss\n",
    "TtFnnFJfDhtdfJJcFtfnsfcFjBjLDjHrDLrCjMjwCLLrZjrS\n",
    "qQmWmQzvWpRQGvgpGGRGRzmWwZMwBLCHMZjbBBCLwrHSLrqr\n",
    "MRllgRWWMlsJFnlFclJT\n",
    "SRRrRDRBRTdbdMRZBZMprTCJCnWGvChJGzLSWWzsGhCs\n",
    "wwqHPtFwjwTHLHvGTsGW\n",
    "FlPtqTNVcTVtwtmjRbBZfQbfZbQmRRMR\n",
    "WSWfQttffsHSfRRRStfnCsQQqlJpbhnrnmNzJbzqNbbrpmnb\n",
    "FGFPddBcBwDPzpzbWlpzDbbh\n",
    "ZPdPPLMFdGwFFGdwGdZwcZgTtSTVCsRRSgSRTQWTTtCTtH\n",
    "vHsfGHTvSvHHHsGHctMgtHrJwbJJwrjgbrdzjWCrdrrw\n",
    "hqZRLmmZpFhcLhFmrzJQbzzmQQJWJJbm\n",
    "LNZFcpPlhBRhqDDllRtnMssGfBsnttGTnttT\n",
    "VDVrLrZZcjrhhFrZppGlglGMPFwFWNQw\n",
    "bzszSBHBWNGcscpN\n",
    "TJqBqSfTBBqBHzJqddBqzcLnLjnhCRTvvRrnDrvrvZRn\n",
    "GLzrNWbtMptHDmNDglgmlD\n",
    "fZtcfCRvtBcQjdjgmmjj\n",
    "RhBhhqfSPPpttrnPnVVW\n",
    "BhVRJGwWqtHjZqTDLZ\n",
    "gQnfpBdPNpQrPNSfBdndnpTTDFZttDLLzZzTzCLNLZZD\n",
    "mQQPsgrldpgdBQgSbGVcmcRwGMWhwVwW\n",
    "DrLCctBCLQtSSQcLbcQHWvvvlWHHnWlWBlNRRB\n",
    "wqdmpgqsZhzGphwwpZGsppRvfnJsWfHWvfFfWFsfvlNN\n",
    "mwmhVppTqpGqpNZpqTbSLLttDrDDtPQTtr\n",
    "qwqmgnglDnlgtQzQJzJQhmWQ\n",
    "pTpTpssdsVvNsdTSZGdSdjvCRcqcRcVWVczhWChtchzWcR\n",
    "sGTvPqZvSGdZZGdsvNGdPHrFHFBDlDLwPgBFLLBB\n",
    "BBBGsGGBrBBrqWVqRnWBBBWpzFwMhjMFSFPzzSwPFPpzzFvg\n",
    "HtCdDdDctZDtbHCffcbddbNfvjvFSPFjMhMgLwPgjbFhjFFj\n",
    "NJTDdltNgCNDZJJZCDJZDfJtrWWnQGBqlRVVlrBsnlrqqmnr\n",
    "PwZhgbZSWSqqGznv\n",
    "tTPVVmptcsrNrsTNpjRzqfHvvGfGWjfjqGzHWn\n",
    "RVRtVDRmsRtrctmJDtgBBhBhbFgJPFFMFJgP\n",
    "jPzzCCPzTtTfzrRtgSNVRHvFQVvbpQppVN\n",
    "sSnDlBGBwJbFNplVlN\n",
    "cLwSwdMhSwcBcsBZgWjCTCWfCLffrg\n",
    "RSNPvTTNqFTSvNrSBvBGJGzmFMslgCMJCgmzlc\n",
    "fDVfpptLWQfnVLffVHbQDQCclJzGGCtGmmGJmzMshzGh\n",
    "VfQnWZfZDbdnVHWcfWnfHWVvPrTSNZqSwSqPjjvBwRqrNS\n",
    "FLRpmRwcpjfzjSnD\n",
    "tGvPNvBnPQggPQQvPgNHDjSSjDzzthjzfHrjlT\n",
    "JGqvWNCCGQBWGBQvVLsCMMRLRnRMnwMc\n",
    "fGJbzgBffCGpPGDVnG\n",
    "mcTccshvbbdRNRsNjdLjnVlHVnHLqVpDpDqD\n",
    "wdmsWvWssbZTcWvRhfzMQtrzMgrfrZJgfQ\n",
    "NfSbvZHZNRSbQbbQgZrMjhLwMrjLjwHLCmmh\n",
    "NTWdJBFcWJFcdsFJqcqPwqmjpMrLCMpLMwLP\n",
    "dNJctnFBVfSGgvnfZz\n",
    "GSnRJfGfRJgMDMGWnfzdmptpFJppLvwLwvLt\n",
    "hbjZzrQbblqcLtpwlHvFplTH\n",
    "qrzqbschrQCqqjPcCVcCGDfGMWDgWNGDDSfgnf\n",
    "vmMpCdTndCvMdmnFcCRJWBJGcZJRJB\n",
    "NDNwGzshPLrwVVNsjswhGzjFSfFFQQRSJWRBFcFRfsWFQB\n",
    "NwNhNjVzhhzzrgzdqqvqtnqvlqdggG\n",
    "MdPLVSSlMMVMmlLBBLFdvZNWqWztStttRRNqzqNGTq\n",
    "DhJfhghhCgwChJgJwHHzbsHpnZRtTWqqfZRGTnWTZtNqNRWR\n",
    "hwHpJbprwpQhDHDCbCCzsClBvrLMVFPvmPlMMVMdLrvj\n",
    "DssDrqRsWsNfzfsWLRzjgTdBlgzFpMlgTFTglT\n",
    "ttCZnSQmSQmgjGQGQgDlBp\n",
    "bhDnCmbwVmCwwtZttPwbRWsRJcqWJfcfsfrqVrqq\n",
    "ldBgTMTRvBDVnCCCTdSRTqNjbjSbPPPPqtfPqtPJFJ\n",
    "cZHZrszLrrrZHrbNjNtbJCfqNJLt\n",
    "GZzCzWZGGsGzmzZcmGssZzZVvnVdBDddRRDnVlWgRTDdBM\n",
    "RjNrrjwGDDqqGJsHtzpMHHGz\n",
    "QCbWgbShmBCCPClmmWFHzJzTbDdsMJsTtpTD\n",
    "fffQfnSCWDBfhCDLRrNrwcrqVqwNqn\n",
    "zmRrDRzqjmLLHzDjLsHLflJlVVJlWWTDTfdMtlWJ\n",
    "pPQQnbvSpvNbgfgfVtMVJfgdtG\n",
    "SnpnVFcPnNnPvpNSFNSbhHLhrjhCqRsRBRrHCLhzmC\n",
    "CZZzlnCZNlGGcbVrbtVlMtct\n",
    "MgFQDFgQRLLHhJgDFqQJQLgdtVTrttSrPSmcbmTtvSqvVSTV\n",
    "hFQDDfMDfLgHwWfBzWwwsZGW\n",
    "bHVDdHVHTPMvnSQnWSDQgDmm\n",
    "GhrCJfbfrhfbRJcqGqlwZtnBRtBWSQgQWWnWQW\n",
    "lfcCrqJhlfFqphpplNCrNVMPMPLbsLPLzFVHVLsVdz\n",
    "VDhFCZhtFdPqwwcp\n",
    "SvnvHNNnTvbwNNgnHwTHgwBTLcdqmmfmqLGmmTRLPfpdGP\n",
    "BNWsHJgSnwgMMgMBBWMDVJjtjZrDJZzztJhjQr\n",
    "HDsSHLRnpjbpbbRDbqLjLjjGGVffMVGMdvnfMcNvfBBGcB\n",
    "TCzQQztwwNTMqMdBVv\n",
    "hCQWmtCzZthPPZPrLjSbJqjSjLLFjLpr\n",
    "ZrrZqJDcZSCFLLHBFcjjHF\n",
    "TgvnDTlTtQwgBfwwwzLjGLdF\n",
    "VbnVngMtvDTTVMQDQMDQlsbZJChCmCPhprrZqhqZSZPJ\n",
    "glMGHBJTJJTplgwcCgcqcFhhbWncFm\n",
    "sSswtPfRDmWcCqfchq\n",
    "RZSdSzsVzNPSwSSQsdzSSQpGLjJTMpBGrJrLLrplZBpG\n",
    "WQqqwLqQlnlWDwtbVbtCNfVbpV\n",
    "dFTRjBPhcBgBrFhTPhrbVptJpNNbbtJCbJSL\n",
    "hjcmcRmgPPcRcPDmHHzGLWmsDmzH\n",
    "rWFmrRmmccSZJWvSLZTH\n",
    "hDPhGbhSjtbpqJLvJHjLHTqj\n",
    "pnplBlfBPPhlgfDbDhglPMMrwrRRSSncwccQzddzmC\n",
    "LbccJCGzbcCJcfGczcnmNnvNmZNLSDZZWPWS\n",
    "dwstRhTsrsFddPZqvNWP\n",
    "BBggRrQstBwBRTHWTprRCHHGVljfCGCfcljHjbGV\n",
    "FHVBSVDvnsFDwwSVwwvGVSMFWhWcWptMWchWMtPPcWtNNWcj\n",
    "TgqJrJTRmRCNrbcLjprLnp\n",
    "qQTlfdlZQgmfqqnFVznvQwvnsBsV\n",
    "TGpDDMQGMZNtfvDJdtWd\n",
    "jbrmstmllRmNvVhmmvJVhv\n",
    "tbrRzFFLlRrjFlLlTQgLQwwLMwgTZBTB\n",
    "QFgFWQQfSgLFGmtnnVmqCPWmPH\n",
    "TTzjgTbRRqnRsCPCsP\n",
    "NDMMgZjzcJvbjhMcjZbbbJJNpdpBfBvSBBQwBSQLQSpSplBG\n",
    "zcRNsQSSMjRsNNZZFBLQHHFFBPWF\n",
    "tvwCtgvqLJNnNBCH\n",
    "fNNwqrqNMpTrDlcs\n",
    "MMHMVPRJHJWvqzWctbtQQdQz\n",
    "DFfNFffDnTllfTfFfmzsjqcdtQGQpbddQQbssn\n",
    "mlFNCgFNNNLrmLFCThhhzJBvhSJPVhMgMh\n",
    "PWjhljbHFhjbFMWhjbPfhbTGZvlGcGlCLvvwtGCNZGvc\n",
    "SRqBqBrmQWQrgQrrqrJBLZNccLNZmTCtvTGtCvCt\n",
    "rJDzDSSBrzdqQWDPHFMjMFdjHMVnbM\n",
    "qqLwvvtrLFqqfqrjjjdBZfBCBBJdlT\n",
    "ZGZpRZHbQDzDWRRRVdBzSSlBdzjjzdJJ\n",
    "ZGpgNDQmWGDRmRpZMQbvPPtnnFnLsstFmnFrPL\n",
    "TdhcfZhdZZdpdbPWttCWrrCN\n",
    "MBMMqRLgpGpFFWbNsvLwvCPCCP\n",
    "mpBMnBRMBGqJfZcfZZHZlhfm\n",
    "CdmGdnMcMwHjhDtFFnrj\n",
    "vPbVbPBPPpgpgWJpvTjqDZZqSHqVZShrDj\n",
    "BppjjgvbJjbpNbzPfNcGCLlCRcmLLflllGcc\n",
    "qDtgVttGFtlslStS\n",
    "gCZbbHCjvJbZjCbJhHhHJrZcslJcLzLllcLNFssMSsTlSM\n",
    "CWbWrZgWBQQBBpfdPm\n",
    "hstPtCGtltlTClllPJLScVdPdJjLPJMV\n",
    "NHRbDZDQSDFFjjdJ\n",
    "RqbQpgBmqZvqZNQqgZmmbszpTtthtCswhjslwwpTWC\n",
    "CVdwBJJdppbbwdBVrJbrJbGPlMFSLrjrPjmPFFmPRRDF\n",
    "NNWHHhNZTcQWhnNFlmSSlRmLjnPPRF\n",
    "qWsccHTZccsNsZcvTcNtStpBtbdVwpfBwbVCBq\n",
    "lPQHNJhMPMPFlNMHBqZBwQwQwQZwcCqw\n",
    "bWddDzbWbftdDSDbgttgnSDWccLwcvBczqcqGZzLccZTZwwc\n",
    "spWrssWrnDtDpfSWDtsFqlFPjNMjRJVVNNPJNp\n",
    "bCCfcWVLTHfSSdHwhH\n",
    "sGQSZSzQJmmQsphwHHHsndnpHN\n",
    "zPSqrmZPFCvFTbWMLV\n",
    "tLtVBGLJqGqVGbzGSCsSsSqQsFvZCSQv\n",
    "gRgdWlHTBHgjjHlWpWjWjrwdCfQRZFSssQQQZmQmMSvZfFMQ\n",
    "lPHlpWgjTldprNWHNNdHjTctcLbVcnNJJGbVzBhnbhhJ\n",
    "zVrSwzzJbVrbqFCVVVwVCztWDDtfTZsWDZTLZZmSWsDm\n",
    "bpgHlgBbbGGGglBGRNvMpWfTDjmDfWDjfRZZWLtmZs\n",
    "bGbvQHMpQccFJPPh\n",
    "VGqCPmPjfGqCdMqVMhjhmPChDJDJzvrrbrBvrdrpnJDpJDQr\n",
    "TSRsgHRSFHTlHvJvBDvvzlptbv\n",
    "ZFLTsRRgZTgWscHTfWNWNPPBfGqmmMfV\n",
    "TvTrrrCVCVwqjPrWfWhjfH\n",
    "RRmgmnggltRgNpzRsdfqWWjdFdvNHfdh\n",
    "zZlRzDGGZmbmmZbvGJVccwCMVcVVTLwDwC\n",
    "QPsNlvvvSccbbNQcSPvDVSvzTLLCgRVzCJgTJpgCpphgzh\n",
    "MDqHwFrMffgFpgpJLzTz\n",
    "ZtdrffBrdqmBBmfwMtDtQPPPbjcNvnllnlbNtScn\n",
    "HbbbcpTHHMMqNTCddCVBQvgPzJPJWQBQjvpBvQ\n",
    "FFrDGtntFFwhrRFDFthfRhRmSJPJvvJZjZjWJJvJQJnvWjjg\n",
    "rtfFfLmLRmNgdHqcLNHd\n",
    "FpFHCFWtFSnCWnBfJJfgMJDGHDGGsG\n",
    "rhrLrrhLrbtZThLfgsfGNDfgTgNcDs\n",
    "QmPjbdqjmbbbrmhQqQZrZStRdlnnFdlRzVVVWlnpzR\n",
    "bBMwwjzhbjhssvsGZBSZLr\n",
    "JFtnDtRzJtffJHWNtHncRRrvGZvSnllZZZsgvlnvVvlv\n",
    "RRPHPHFPHHdcHtzNfMQhdCwbqCmbMChhqq\n",
    "pWGdFSWwwjLdvgNNvggl\n",
    "mTNbmRPHmmVNmvZhnhBssBlhnb\n",
    "HPTzRPffJJNzjCFpDWDz\n",
    "MHlgzsqHlbmzgsHzlsbcRWPdPtjZFqhGGdrPrjPJGrVP\n",
    "vpwwvQwCnhNQpSnLdVtrrZGZtZjdVSdJ\n",
    "hfffwvTpvLwDpCLvDnQDHbmRRTcWRHMWWHWMmWMW\n",
    "WHlNHWWldjpwntnWBPpPQFZFBFhZBZCZ\n",
    "TqqvgvmgfmvDVLLfqqLsrFBRhrrBFJQBGPgPZGCR\n",
    "mcDbcDmzLcmDDzfVzTQNjNzNztdzjNdwSHlH'''"
   ]
  },
  {
   "cell_type": "code",
   "execution_count": null,
   "id": "d18f6f1f",
   "metadata": {},
   "outputs": [],
   "source": []
  }
 ],
 "metadata": {
  "kernelspec": {
   "display_name": "Python 3 (ipykernel)",
   "language": "python",
   "name": "python3"
  },
  "language_info": {
   "codemirror_mode": {
    "name": "ipython",
    "version": 3
   },
   "file_extension": ".py",
   "mimetype": "text/x-python",
   "name": "python",
   "nbconvert_exporter": "python",
   "pygments_lexer": "ipython3",
   "version": "3.9.10"
  }
 },
 "nbformat": 4,
 "nbformat_minor": 5
}
