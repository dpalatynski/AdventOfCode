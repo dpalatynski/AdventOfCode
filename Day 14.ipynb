{
 "cells": [
  {
   "cell_type": "code",
   "execution_count": 1,
   "id": "3e7052d4",
   "metadata": {},
   "outputs": [],
   "source": [
    "import numpy as np"
   ]
  },
  {
   "cell_type": "code",
   "execution_count": 2,
   "id": "cbcb09cf",
   "metadata": {},
   "outputs": [],
   "source": [
    "sample_input = '''498,4 -> 498,6 -> 496,6\n",
    "503,4 -> 502,4 -> 502,9 -> 494,9'''"
   ]
  },
  {
   "cell_type": "code",
   "execution_count": 3,
   "id": "2b2add71",
   "metadata": {},
   "outputs": [],
   "source": [
    "def load_data(sample_input):\n",
    "    rocks = [rocks.split(' -> ') for rocks in sample_input.split('\\n')]\n",
    "    \n",
    "    xs, ys= [], []\n",
    "    for i in range(len(rocks)):\n",
    "        for j in range(len(rocks[i])):\n",
    "            x = int(rocks[i][j].split(',')[0])\n",
    "            y = int(rocks[i][j].split(',')[1])\n",
    "            rocks[i][j] = (x, y)\n",
    "            xs.append(x)\n",
    "            ys.append(y)\n",
    "\n",
    "    min_x, max_x, min_y, max_y = min(xs), max(xs), min(ys), max(ys)\n",
    "    \n",
    "    return rocks, min_x, max_x, min_y, max_y"
   ]
  },
  {
   "cell_type": "code",
   "execution_count": 4,
   "id": "17b014f4",
   "metadata": {},
   "outputs": [],
   "source": [
    "def create_area(min_x, max_x, min_y, max_y):\n",
    "    return np.zeros((max_y+1, max_x-min_x+1))"
   ]
  },
  {
   "cell_type": "code",
   "execution_count": 5,
   "id": "fd48a6c1",
   "metadata": {},
   "outputs": [],
   "source": [
    "def find_steps(tuple_1, tuple_2):\n",
    "    results = [(tuple_1[0], tuple_1[1]), tuple_2]\n",
    "    diff_x = abs(tuple_1[0] - tuple_2[0])\n",
    "    for i in range(diff_x):\n",
    "        if tuple_1[0] < tuple_2[0]:\n",
    "            results.append((tuple_1[0]+i, tuple_1[1]))\n",
    "        else:\n",
    "            results.append((tuple_1[0]-i, tuple_1[1]))\n",
    "    \n",
    "    diff_y = abs(tuple_1[1] - tuple_2[1])\n",
    "    for i in range(diff_y):\n",
    "        if tuple_1[1] < tuple_2[1]:\n",
    "            results.append((tuple_2[0], tuple_2[1]-i))\n",
    "        else:\n",
    "            results.append((tuple_2[0], tuple_2[1]+i))\n",
    "    \n",
    "    return results"
   ]
  },
  {
   "cell_type": "code",
   "execution_count": 6,
   "id": "324b8ea7",
   "metadata": {},
   "outputs": [],
   "source": [
    "def create_rocks(cave, rocks):\n",
    "    for paths in rocks:\n",
    "        for i in range(len(paths)-1):\n",
    "            steps = find_steps(paths[i], paths[i+1])\n",
    "            for step in steps:  # note that indexes in numpy array are changed\n",
    "                cave[(step[1], step[0]-min_x)] = 1\n",
    "                \n",
    "    return cave"
   ]
  },
  {
   "cell_type": "code",
   "execution_count": 7,
   "id": "1f9fc3fa",
   "metadata": {},
   "outputs": [],
   "source": [
    "def falling_sand(cave, min_x):\n",
    "    current_pos = [0, 500-min_x]\n",
    "    comes_to_rest = False\n",
    "    while not comes_to_rest:\n",
    "        if cave[(current_pos[0]+1, current_pos[1])] == 0:\n",
    "            current_pos[0] = current_pos[0]+1\n",
    "        elif cave[(current_pos[0]+1, current_pos[1]-1)] == 0:\n",
    "            current_pos[0] = current_pos[0]+1\n",
    "            current_pos[1] = current_pos[1]-1\n",
    "        elif cave[(current_pos[0]+1, current_pos[1]+1)] == 0:\n",
    "            current_pos[0] = current_pos[0]+1\n",
    "            current_pos[1] = current_pos[1]+1\n",
    "        else:\n",
    "            comes_to_rest = True\n",
    "            cave[tuple(current_pos)] = 2\n",
    "    \n",
    "    return cave"
   ]
  },
  {
   "cell_type": "code",
   "execution_count": 8,
   "id": "3bc61933",
   "metadata": {
    "scrolled": false
   },
   "outputs": [],
   "source": [
    "def adding_units_of_sand(cave, min_x):\n",
    "    i = 0\n",
    "    while True:\n",
    "        try:\n",
    "            falling_sand(cave, min_x)\n",
    "            i += 1\n",
    "        except IndexError:\n",
    "            break\n",
    "            \n",
    "    return i"
   ]
  },
  {
   "cell_type": "code",
   "execution_count": 9,
   "id": "6113231f",
   "metadata": {},
   "outputs": [],
   "source": [
    "rocks, min_x, max_x, min_y, max_y = load_data(sample_input)\n",
    "cave = create_area(min_x, max_x, min_y, max_y)\n",
    "cave = create_rocks(cave, rocks)\n",
    "answer = adding_units_of_sand(cave, min_x)"
   ]
  },
  {
   "cell_type": "code",
   "execution_count": 10,
   "id": "f07d6094",
   "metadata": {
    "scrolled": false
   },
   "outputs": [
    {
     "data": {
      "text/plain": [
       "24"
      ]
     },
     "execution_count": 10,
     "metadata": {},
     "output_type": "execute_result"
    }
   ],
   "source": [
    "answer"
   ]
  },
  {
   "cell_type": "code",
   "execution_count": 11,
   "id": "e80d1b11",
   "metadata": {},
   "outputs": [],
   "source": [
    "puzzle_input = open('Day 14.txt').read()"
   ]
  },
  {
   "cell_type": "code",
   "execution_count": 12,
   "id": "9b832854",
   "metadata": {},
   "outputs": [],
   "source": [
    "rocks, min_x, max_x, min_y, max_y = load_data(puzzle_input)\n",
    "cave = create_area(min_x, max_x, min_y, max_y)\n",
    "cave = create_rocks(cave, rocks)\n",
    "answer = adding_units_of_sand(cave, min_x)"
   ]
  },
  {
   "cell_type": "code",
   "execution_count": 13,
   "id": "9364ed3d",
   "metadata": {},
   "outputs": [
    {
     "data": {
      "text/plain": [
       "779"
      ]
     },
     "execution_count": 13,
     "metadata": {},
     "output_type": "execute_result"
    }
   ],
   "source": [
    "answer"
   ]
  },
  {
   "cell_type": "code",
   "execution_count": null,
   "id": "106dfc63",
   "metadata": {},
   "outputs": [],
   "source": []
  }
 ],
 "metadata": {
  "kernelspec": {
   "display_name": "Python 3 (ipykernel)",
   "language": "python",
   "name": "python3"
  },
  "language_info": {
   "codemirror_mode": {
    "name": "ipython",
    "version": 3
   },
   "file_extension": ".py",
   "mimetype": "text/x-python",
   "name": "python",
   "nbconvert_exporter": "python",
   "pygments_lexer": "ipython3",
   "version": "3.9.10"
  }
 },
 "nbformat": 4,
 "nbformat_minor": 5
}
