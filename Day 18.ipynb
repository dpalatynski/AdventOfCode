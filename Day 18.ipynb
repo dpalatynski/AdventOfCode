{
 "cells": [
  {
   "cell_type": "code",
   "execution_count": 1,
   "id": "df7de4c8",
   "metadata": {},
   "outputs": [],
   "source": [
    "import networkx as nx\n",
    "import matplotlib.pyplot as plt"
   ]
  },
  {
   "cell_type": "code",
   "execution_count": 2,
   "id": "6e6370ad",
   "metadata": {},
   "outputs": [],
   "source": [
    "first_input = '''1,1,1\n",
    "2,1,1'''"
   ]
  },
  {
   "cell_type": "code",
   "execution_count": null,
   "id": "3c3db983",
   "metadata": {},
   "outputs": [],
   "source": []
  },
  {
   "cell_type": "code",
   "execution_count": 3,
   "id": "da4198ae",
   "metadata": {},
   "outputs": [],
   "source": [
    "nodes = [list(map(int, line.split(','))) for line in first_input.split('\\n')]"
   ]
  },
  {
   "cell_type": "code",
   "execution_count": 4,
   "id": "994cef55",
   "metadata": {},
   "outputs": [
    {
     "data": {
      "text/plain": [
       "[[1, 1, 1], [2, 1, 1]]"
      ]
     },
     "execution_count": 4,
     "metadata": {},
     "output_type": "execute_result"
    }
   ],
   "source": [
    "nodes"
   ]
  },
  {
   "cell_type": "code",
   "execution_count": 5,
   "id": "d08d790e",
   "metadata": {},
   "outputs": [],
   "source": [
    "neighbours = [[-1, 0, 0],\n",
    "              [1, 0, 0],\n",
    "              [0, 1, 0],\n",
    "              [0, -1, 0],\n",
    "              [0, 0, 1],\n",
    "              [0, 0, -1]]"
   ]
  },
  {
   "cell_type": "code",
   "execution_count": 6,
   "id": "d4f3e2f1",
   "metadata": {},
   "outputs": [],
   "source": [
    "surface = 0\n",
    "for node in nodes:\n",
    "    no_of_neighbours = 0\n",
    "    for neighbour in neighbours:\n",
    "        if [node[0] + neighbour[0], node[1] + neighbour[1], node[2] + neighbour[2]] in nodes:\n",
    "            no_of_neighbours += 1\n",
    "    surface += 6 - no_of_neighbours        "
   ]
  },
  {
   "cell_type": "code",
   "execution_count": 7,
   "id": "6897ecb5",
   "metadata": {},
   "outputs": [
    {
     "data": {
      "text/plain": [
       "10"
      ]
     },
     "execution_count": 7,
     "metadata": {},
     "output_type": "execute_result"
    }
   ],
   "source": [
    "surface"
   ]
  },
  {
   "cell_type": "code",
   "execution_count": 8,
   "id": "c3d8611a",
   "metadata": {},
   "outputs": [],
   "source": [
    "sample_input = '''2,2,2\n",
    "1,2,2\n",
    "3,2,2\n",
    "2,1,2\n",
    "2,3,2\n",
    "2,2,1\n",
    "2,2,3\n",
    "2,2,4\n",
    "2,2,6\n",
    "1,2,5\n",
    "3,2,5\n",
    "2,1,5\n",
    "2,3,5'''"
   ]
  },
  {
   "cell_type": "code",
   "execution_count": 9,
   "id": "648d3dd7",
   "metadata": {},
   "outputs": [],
   "source": [
    "nodes = [list(map(int, line.split(','))) for line in sample_input.split('\\n')]"
   ]
  },
  {
   "cell_type": "code",
   "execution_count": 10,
   "id": "11968e94",
   "metadata": {},
   "outputs": [],
   "source": [
    "surface = 0\n",
    "for node in nodes:\n",
    "    no_of_neighbours = 0\n",
    "    for neighbour in neighbours:\n",
    "        if [node[0] + neighbour[0], node[1] + neighbour[1], node[2] + neighbour[2]] in nodes:\n",
    "            no_of_neighbours += 1\n",
    "    surface += 6 - no_of_neighbours   "
   ]
  },
  {
   "cell_type": "code",
   "execution_count": 11,
   "id": "29d758a0",
   "metadata": {},
   "outputs": [
    {
     "data": {
      "text/plain": [
       "64"
      ]
     },
     "execution_count": 11,
     "metadata": {},
     "output_type": "execute_result"
    }
   ],
   "source": [
    "surface"
   ]
  },
  {
   "cell_type": "code",
   "execution_count": 12,
   "id": "496bbd1d",
   "metadata": {},
   "outputs": [],
   "source": [
    "nodes = [list(map(int, line.split(','))) for line in open('Day 18.txt').read().split('\\n')]"
   ]
  },
  {
   "cell_type": "code",
   "execution_count": 13,
   "id": "b609130f",
   "metadata": {},
   "outputs": [],
   "source": [
    "surface = 0\n",
    "for node in nodes:\n",
    "    no_of_neighbours = 0\n",
    "    for neighbour in neighbours:\n",
    "        if [node[0] + neighbour[0], node[1] + neighbour[1], node[2] + neighbour[2]] in nodes:\n",
    "            no_of_neighbours += 1\n",
    "    surface += 6 - no_of_neighbours   "
   ]
  },
  {
   "cell_type": "code",
   "execution_count": 14,
   "id": "fa6342f5",
   "metadata": {},
   "outputs": [
    {
     "data": {
      "text/plain": [
       "4504"
      ]
     },
     "execution_count": 14,
     "metadata": {},
     "output_type": "execute_result"
    }
   ],
   "source": [
    "surface"
   ]
  },
  {
   "cell_type": "code",
   "execution_count": null,
   "id": "f787322b",
   "metadata": {},
   "outputs": [],
   "source": []
  }
 ],
 "metadata": {
  "kernelspec": {
   "display_name": "Python 3 (ipykernel)",
   "language": "python",
   "name": "python3"
  },
  "language_info": {
   "codemirror_mode": {
    "name": "ipython",
    "version": 3
   },
   "file_extension": ".py",
   "mimetype": "text/x-python",
   "name": "python",
   "nbconvert_exporter": "python",
   "pygments_lexer": "ipython3",
   "version": "3.9.10"
  }
 },
 "nbformat": 4,
 "nbformat_minor": 5
}
